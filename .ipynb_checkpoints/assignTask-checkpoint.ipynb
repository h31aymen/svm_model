{
 "cells": [
  {
   "cell_type": "code",
   "execution_count": 27,
   "id": "2a04f866-b145-49ad-81ce-728ff98fcf07",
   "metadata": {},
   "outputs": [],
   "source": [
    "import pandas as pd \n",
    "from sklearn.preprocessing import MinMaxScaler \n",
    "from sklearn.model_selection import train_test_split \n",
    "from sklearn.preprocessing import LabelEncoder, OrdinalEncoder \n",
    "from sklearn import svm\n",
    "import matplotlib.pyplot as plt\n",
    "from sklearn.metrics import confusion_matrix, classification_report,ConfusionMatrixDisplay\n",
    "from sklearn.model_selection import GridSearchCV \n",
    "from sklearn.metrics import classification_report "
   ]
  },
  {
   "cell_type": "code",
   "execution_count": 28,
   "id": "5ec8d6d7-7a49-4027-b8ef-84f8cb517e5c",
   "metadata": {},
   "outputs": [],
   "source": [
    "data= pd.read_csv('../social.csv', dtype= str)"
   ]
  },
  {
   "cell_type": "code",
   "execution_count": 29,
   "id": "a8d9d4ca-7a7a-424f-a969-7e2d8f8ba0ec",
   "metadata": {},
   "outputs": [
    {
     "data": {
      "text/html": [
       "<div>\n",
       "<style scoped>\n",
       "    .dataframe tbody tr th:only-of-type {\n",
       "        vertical-align: middle;\n",
       "    }\n",
       "\n",
       "    .dataframe tbody tr th {\n",
       "        vertical-align: top;\n",
       "    }\n",
       "\n",
       "    .dataframe thead th {\n",
       "        text-align: right;\n",
       "    }\n",
       "</style>\n",
       "<table border=\"1\" class=\"dataframe\">\n",
       "  <thead>\n",
       "    <tr style=\"text-align: right;\">\n",
       "      <th></th>\n",
       "      <th>User ID</th>\n",
       "      <th>Gender</th>\n",
       "      <th>Age</th>\n",
       "      <th>EstimatedSalary</th>\n",
       "      <th>Purchased</th>\n",
       "    </tr>\n",
       "  </thead>\n",
       "  <tbody>\n",
       "    <tr>\n",
       "      <th>0</th>\n",
       "      <td>15624510</td>\n",
       "      <td>Male</td>\n",
       "      <td>19.00</td>\n",
       "      <td>19000.00</td>\n",
       "      <td>0</td>\n",
       "    </tr>\n",
       "    <tr>\n",
       "      <th>1</th>\n",
       "      <td>15810944</td>\n",
       "      <td>Male</td>\n",
       "      <td>35.00</td>\n",
       "      <td>20000.00</td>\n",
       "      <td>0</td>\n",
       "    </tr>\n",
       "    <tr>\n",
       "      <th>2</th>\n",
       "      <td>15668575</td>\n",
       "      <td>Female</td>\n",
       "      <td>26.00</td>\n",
       "      <td>43000.00</td>\n",
       "      <td>0</td>\n",
       "    </tr>\n",
       "    <tr>\n",
       "      <th>3</th>\n",
       "      <td>15603246</td>\n",
       "      <td>Female</td>\n",
       "      <td>27.00</td>\n",
       "      <td>57000.00</td>\n",
       "      <td>0</td>\n",
       "    </tr>\n",
       "    <tr>\n",
       "      <th>4</th>\n",
       "      <td>15804002</td>\n",
       "      <td>Male</td>\n",
       "      <td>19.00</td>\n",
       "      <td>76000.00</td>\n",
       "      <td>0</td>\n",
       "    </tr>\n",
       "  </tbody>\n",
       "</table>\n",
       "</div>"
      ],
      "text/plain": [
       "    User ID  Gender    Age EstimatedSalary Purchased\n",
       "0  15624510    Male  19.00        19000.00         0\n",
       "1  15810944    Male  35.00        20000.00         0\n",
       "2  15668575  Female  26.00        43000.00         0\n",
       "3  15603246  Female  27.00        57000.00         0\n",
       "4  15804002    Male  19.00        76000.00         0"
      ]
     },
     "execution_count": 29,
     "metadata": {},
     "output_type": "execute_result"
    }
   ],
   "source": [
    "data.head()"
   ]
  },
  {
   "cell_type": "code",
   "execution_count": 30,
   "id": "528bc5cf-4dec-4c09-a85b-9c8c27bbdd44",
   "metadata": {},
   "outputs": [
    {
     "name": "stdout",
     "output_type": "stream",
     "text": [
      "User ID            object\n",
      "Gender             object\n",
      "Age                object\n",
      "EstimatedSalary    object\n",
      "Purchased          object\n",
      "dtype: object\n"
     ]
    }
   ],
   "source": [
    "print(data.dtypes)"
   ]
  },
  {
   "cell_type": "code",
   "execution_count": 31,
   "id": "3c3903d1-c131-4f8e-8333-e775da69c5f3",
   "metadata": {},
   "outputs": [
    {
     "data": {
      "text/plain": [
       "Purchased\n",
       "0    257\n",
       "1    143\n",
       "Name: count, dtype: int64"
      ]
     },
     "execution_count": 31,
     "metadata": {},
     "output_type": "execute_result"
    }
   ],
   "source": [
    "data['Purchased'].value_counts()"
   ]
  },
  {
   "cell_type": "code",
   "execution_count": 32,
   "id": "18165683-1edc-4670-af6b-43330d84a0f1",
   "metadata": {},
   "outputs": [
    {
     "data": {
      "text/plain": [
       "User ID            0\n",
       "Gender             0\n",
       "Age                0\n",
       "EstimatedSalary    0\n",
       "Purchased          0\n",
       "dtype: int64"
      ]
     },
     "execution_count": 32,
     "metadata": {},
     "output_type": "execute_result"
    }
   ],
   "source": [
    "data.isnull().sum()"
   ]
  },
  {
   "cell_type": "markdown",
   "id": "0d801759-5e77-48a7-a350-ef46ca641ca4",
   "metadata": {},
   "source": [
    "#### Preprocessing"
   ]
  },
  {
   "cell_type": "code",
   "execution_count": 33,
   "id": "bb84bae4-53df-4cf8-a221-43da53ca0fc7",
   "metadata": {},
   "outputs": [],
   "source": [
    "inputs= data.drop(['User ID', 'Purchased'], axis=1)\n",
    "target= data['Purchased']"
   ]
  },
  {
   "cell_type": "code",
   "execution_count": 34,
   "id": "e86d2279-bdbe-4329-9027-91462dab053b",
   "metadata": {},
   "outputs": [],
   "source": [
    "x_train, x_test, y_train, y_test= train_test_split(inputs,\n",
    "                                                   target,\n",
    "                                                   test_size=0.3,\n",
    "                                                   random_state= 365,\n",
    "                                                   stratify= target)"
   ]
  },
  {
   "cell_type": "code",
   "execution_count": 35,
   "id": "d21b4a14-5ca7-40f8-8efa-55ac1c031da4",
   "metadata": {},
   "outputs": [
    {
     "data": {
      "text/plain": [
       "Purchased\n",
       "0    180\n",
       "1    100\n",
       "Name: count, dtype: int64"
      ]
     },
     "execution_count": 35,
     "metadata": {},
     "output_type": "execute_result"
    }
   ],
   "source": [
    "y_train.value_counts()"
   ]
  },
  {
   "cell_type": "markdown",
   "id": "fe289151-23d2-495d-a787-0dea99f2c760",
   "metadata": {},
   "source": [
    "### Encoding"
   ]
  },
  {
   "cell_type": "code",
   "execution_count": 36,
   "id": "0944162b-831f-492d-9547-7240137eb21f",
   "metadata": {},
   "outputs": [],
   "source": [
    "binary= OrdinalEncoder()\n",
    "x_train_enc= binary.fit_transform(x_train)\n",
    "x_test_enc= binary.fit_transform(x_test)"
   ]
  },
  {
   "cell_type": "code",
   "execution_count": 37,
   "id": "59cfd48e-53b9-4c2f-896d-2bcaa14a131e",
   "metadata": {},
   "outputs": [
    {
     "data": {
      "text/plain": [
       "array([[ 0.,  6., 69.],\n",
       "       [ 1., 12., 97.],\n",
       "       [ 1., 18., 14.]])"
      ]
     },
     "execution_count": 37,
     "metadata": {},
     "output_type": "execute_result"
    }
   ],
   "source": [
    "x_train_enc[:3]"
   ]
  },
  {
   "cell_type": "code",
   "execution_count": 38,
   "id": "46c5d1ca-fdd5-4b28-80f7-7dd2d6c44491",
   "metadata": {},
   "outputs": [
    {
     "data": {
      "text/plain": [
       "280"
      ]
     },
     "execution_count": 38,
     "metadata": {},
     "output_type": "execute_result"
    }
   ],
   "source": [
    "len(x_train_enc)"
   ]
  },
  {
   "cell_type": "markdown",
   "id": "502104a6-5201-45a9-8d98-31036b152e5f",
   "metadata": {},
   "source": [
    "### Rescaling"
   ]
  },
  {
   "cell_type": "code",
   "execution_count": 39,
   "id": "8d137dec-f518-493a-af3d-b06af218e6b0",
   "metadata": {},
   "outputs": [],
   "source": [
    "scalling= MinMaxScaler(feature_range=(-1, 1)).fit(x_train_enc)\n",
    "x_train_rescalled= scalling.transform(x_train_enc)\n",
    "x_test_rescalled= scalling.transform(x_test_enc)"
   ]
  },
  {
   "cell_type": "code",
   "execution_count": 40,
   "id": "84c8150c-5b9e-48db-b1c0-1ce32528a05d",
   "metadata": {},
   "outputs": [
    {
     "data": {
      "text/plain": [
       "array([[-1.        , -0.71428571,  0.33980583],\n",
       "       [ 1.        , -0.42857143,  0.88349515],\n",
       "       [ 1.        , -0.14285714, -0.72815534],\n",
       "       [ 1.        , -0.95238095,  0.66990291],\n",
       "       [ 1.        ,  0.        ,  1.        ]])"
      ]
     },
     "execution_count": 40,
     "metadata": {},
     "output_type": "execute_result"
    }
   ],
   "source": [
    "x_train_rescalled[:5]"
   ]
  },
  {
   "cell_type": "markdown",
   "id": "b15a64a7-14fe-44b9-96d9-a037b083d1cf",
   "metadata": {},
   "source": [
    "### SVM Implementation"
   ]
  },
  {
   "cell_type": "code",
   "execution_count": 41,
   "id": "f049692c-d610-4107-a589-12f6857a80b1",
   "metadata": {},
   "outputs": [],
   "source": [
    "c=1.0\n",
    "svc= svm.SVC(kernel= 'linear', C=c).fit(x_train_rescalled, y_train)"
   ]
  },
  {
   "cell_type": "code",
   "execution_count": 42,
   "id": "45e3f07a-2c35-40c4-9a1a-c1d461ef8bd1",
   "metadata": {},
   "outputs": [],
   "source": [
    "y_test_predict= svc.predict(x_test_rescalled)"
   ]
  },
  {
   "cell_type": "markdown",
   "id": "e0653c85-a112-4737-9a1c-c700bdb483b4",
   "metadata": {},
   "source": [
    "### Evaluation"
   ]
  },
  {
   "cell_type": "code",
   "execution_count": 43,
   "id": "2d5f6e9b-b319-4ae1-b89d-ca5e6c8d3053",
   "metadata": {},
   "outputs": [
    {
     "data": {
      "text/plain": [
       "<sklearn.metrics._plot.confusion_matrix.ConfusionMatrixDisplay at 0x1b279c26120>"
      ]
     },
     "execution_count": 43,
     "metadata": {},
     "output_type": "execute_result"
    },
    {
     "data": {
      "image/png": "[encoded data removed]",
      "text/plain": [
       "<Figure size 800x500 with 2 Axes>"
      ]
     },
     "metadata": {},
     "output_type": "display_data"
    }
   ],
   "source": [
    "fig, ax= plt.subplots(figsize= (8, 5))\n",
    "\n",
    "cmp= ConfusionMatrixDisplay(\n",
    "    confusion_matrix(y_test, y_test_predict),\n",
    "    display_labels= ['NOT Purchased', 'Purchased']\n",
    ")\n",
    "cmp.plot(ax= ax)"
   ]
  },
  {
   "cell_type": "code",
   "execution_count": 44,
   "id": "4154fb40-9198-439d-b996-bcde30e4656c",
   "metadata": {},
   "outputs": [
    {
     "name": "stdout",
     "output_type": "stream",
     "text": [
      "               precision    recall  f1-score   support\n",
      "\n",
      "NOT Purchased       0.89      0.74      0.81        77\n",
      "    Purchased       0.64      0.84      0.73        43\n",
      "\n",
      "     accuracy                           0.78       120\n",
      "    macro avg       0.77      0.79      0.77       120\n",
      " weighted avg       0.80      0.78      0.78       120\n",
      "\n"
     ]
    }
   ],
   "source": [
    "print(classification_report(y_test, y_test_predict, target_names=['NOT Purchased', 'Purchased']))"
   ]
  },
  {
   "cell_type": "code",
   "execution_count": 45,
   "id": "7f15d2a0-44ca-4d5e-9a09-c3e34b3844a0",
   "metadata": {},
   "outputs": [],
   "source": [
    "tuned_params=[\n",
    "    {'kernel': ['linear'], 'C': [10]} ,\n",
    "    {'kernel': ['sigmoid'], 'C': [10]},\n",
    "    {'kernel': ['rbf'], 'C': [10]}\n",
    "]"
   ]
  },
  {
   "cell_type": "code",
   "execution_count": 46,
   "id": "43bc13e5-4d14-4f33-9cf4-58e1326572fa",
   "metadata": {},
   "outputs": [],
   "source": [
    "scores= ['precision', 'recall']"
   ]
  },
  {
   "cell_type": "code",
   "execution_count": 47,
   "id": "23646ccf-4ac2-4659-8b02-01b4f2d140cb",
   "metadata": {},
   "outputs": [
    {
     "name": "stdout",
     "output_type": "stream",
     "text": [
      "# Tuning hyper-parameters for precision\n",
      "\n",
      " #Best parameters-set found on development set:\n",
      "\n",
      "{'C': 10, 'kernel': 'rbf'}\n",
      "\n",
      "Grid scores on development-set:\n",
      "\n",
      "0.882 (+/-0.123) for {'C': 10, 'kernel': 'linear'}\n",
      "0.773 (+/-0.147) for {'C': 10, 'kernel': 'sigmoid'}\n",
      "0.893 (+/-0.106) for {'C': 10, 'kernel': 'rbf'}\n",
      "\n",
      "Detailed classification report: \n",
      "\n",
      "The model is trained on the full development set\n",
      "The scores are computed on the full evaluation set\n",
      "\n",
      "              precision    recall  f1-score   support\n",
      "\n",
      "           0       0.84      0.81      0.82        77\n",
      "           1       0.67      0.72      0.70        43\n",
      "\n",
      "    accuracy                           0.78       120\n",
      "   macro avg       0.76      0.76      0.76       120\n",
      "weighted avg       0.78      0.78      0.78       120\n",
      "\n",
      "\n",
      "# Tuning hyper-parameters for recall\n",
      "\n",
      " #Best parameters-set found on development set:\n",
      "\n",
      "{'C': 10, 'kernel': 'rbf'}\n",
      "\n",
      "Grid scores on development-set:\n",
      "\n",
      "0.859 (+/-0.117) for {'C': 10, 'kernel': 'linear'}\n",
      "0.758 (+/-0.158) for {'C': 10, 'kernel': 'sigmoid'}\n",
      "0.889 (+/-0.124) for {'C': 10, 'kernel': 'rbf'}\n",
      "\n",
      "Detailed classification report: \n",
      "\n",
      "The model is trained on the full development set\n",
      "The scores are computed on the full evaluation set\n",
      "\n",
      "              precision    recall  f1-score   support\n",
      "\n",
      "           0       0.84      0.81      0.82        77\n",
      "           1       0.67      0.72      0.70        43\n",
      "\n",
      "    accuracy                           0.78       120\n",
      "   macro avg       0.76      0.76      0.76       120\n",
      "weighted avg       0.78      0.78      0.78       120\n",
      "\n",
      "\n"
     ]
    }
   ],
   "source": [
    "for score in scores:\n",
    "    print('# Tuning hyper-parameters for %s' % score)\n",
    "    print()\n",
    "\n",
    "    clf= GridSearchCV(svm.SVC(), tuned_params, scoring=\"%s_macro\" %score) #default k cross validation is k=5 in gridSearchCV\n",
    "    clf.fit(x_train_rescalled, y_train)\n",
    "\n",
    "    print(' #Best parameters-set found on development set:')\n",
    "    print()\n",
    "    print(clf.best_params_)\n",
    "    print()\n",
    "    print('Grid scores on development-set:')\n",
    "    print()\n",
    "    means= clf.cv_results_['mean_test_score']\n",
    "    stds= clf.cv_results_['std_test_score']\n",
    "    for mean, std, params in zip(means, stds, clf.cv_results_['params']):\n",
    "        print('%0.3f (+/-%0.03f) for %r' %(mean, std * 2, params))\n",
    "    print()\n",
    "\n",
    "    print('Detailed classification report: ')\n",
    "    \n",
    "    print()\n",
    "    print('The model is trained on the full development set')\n",
    "    print('The scores are computed on the full evaluation set')\n",
    "    print()\n",
    "    y_true, y_pred= y_test, clf.predict(x_test_rescalled)\n",
    "    print(classification_report(y_true, y_pred))\n",
    "    print()"
   ]
  },
  {
   "cell_type": "code",
   "execution_count": null,
   "id": "0e8fd820",
   "metadata": {},
   "outputs": [],
   "source": []
  }
 ],
 "metadata": {
  "kernelspec": {
   "display_name": "Python 3",
   "language": "python",
   "name": "python3"
  },
  "language_info": {
   "codemirror_mode": {
    "name": "ipython",
    "version": 3
   },
   "file_extension": ".py",
   "mimetype": "text/x-python",
   "name": "python",
   "nbconvert_exporter": "python",
   "pygments_lexer": "ipython3",
   "version": "3.12.4"
  }
 },
 "nbformat": 4,
 "nbformat_minor": 5
}
